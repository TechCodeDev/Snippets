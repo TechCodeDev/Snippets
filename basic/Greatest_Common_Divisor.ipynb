{
  "metadata": {
    "language_info": {
      "codemirror_mode": {
        "name": "python",
        "version": 3
      },
      "file_extension": ".py",
      "mimetype": "text/x-python",
      "name": "python",
      "nbconvert_exporter": "python",
      "pygments_lexer": "ipython3",
      "version": "3.8"
    },
    "kernelspec": {
      "name": "python",
      "display_name": "Python (Pyodide)",
      "language": "python"
    }
  },
  "nbformat_minor": 4,
  "nbformat": 4,
  "cells": [
    {
      "cell_type": "code",
      "source": "##GCD Greatest common divisor\n\ndef Greatest_Common_Divisor(Number1,Number2):\n    Minvalue=min(Number1,Number2)\n    while Minvalue>0:\n        if Number1%Minvalue==0 and Number2%Minvalue==0:\n            break\n        Minvalue-=1\n    return Minvalue\n\nprint(\"Greatest Common Divisor is:\",Greatest_Common_Divisor(100,200))",
      "metadata": {
        "trusted": true
      },
      "execution_count": 5,
      "outputs": [
        {
          "name": "stdout",
          "text": "Greatest Common Divisor is: 100\n",
          "output_type": "stream"
        }
      ]
    },
    {
      "cell_type": "code",
      "source": "##GCD Euclidean Algoritham \n    \ndef Euclidean_Algoritham(Number1,Number2):\n    while Number1!=Number2:\n        if Number1>=Number2:\n            Number1=Number1-Number2\n        else:\n            Number2=Number2-Number1\n    return Number1\n\nprint(\"Greatest Common Divisor is:\",Euclidean_Algoritham(100,200))",
      "metadata": {
        "trusted": true
      },
      "execution_count": 6,
      "outputs": [
        {
          "name": "stdout",
          "text": "Greatest Common Divisor is: 100\n",
          "output_type": "stream"
        }
      ]
    },
    {
      "cell_type": "code",
      "source": "##GCD Euclidean Algoritham efficient solution\n\ndef Euclidean_Algoritham(Number1,Number2):\n    if Number2==0:\n        return Number1\n    else:\n        return Euclidean_Algoritham(Number2,Number1%Number2)\n\nprint(\"Greatest Common Divisor is:\",Euclidean_Algoritham(100,200))",
      "metadata": {
        "trusted": true
      },
      "execution_count": 7,
      "outputs": [
        {
          "name": "stdout",
          "text": "Greatest Common Divisor is: 100\n",
          "output_type": "stream"
        }
      ]
    }
  ]
}
