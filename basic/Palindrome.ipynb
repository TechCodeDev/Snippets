{
  "metadata": {
    "language_info": {
      "codemirror_mode": {
        "name": "python",
        "version": 3
      },
      "file_extension": ".py",
      "mimetype": "text/x-python",
      "name": "python",
      "nbconvert_exporter": "python",
      "pygments_lexer": "ipython3",
      "version": "3.8"
    },
    "kernelspec": {
      "name": "python",
      "display_name": "Python (Pyodide)",
      "language": "python"
    }
  },
  "nbformat_minor": 4,
  "nbformat": 4,
  "cells": [
    {
      "cell_type": "code",
      "source": "##Palindrome Number\n\ndef Palindrome_Number(Number):\n    Rev=0\n    while(Number!=0):\n        Temp=Number%10\n        Rev=Rev*10+Temp\n        Number=Number//10\n      \n    \nPalindrome_Number(10991)",
      "metadata": {
        "trusted": true
      },
      "execution_count": 20,
      "outputs": [
        {
          "name": "stdout",
          "text": "-------------------------------------\nTemp: 1\nRev: 1\nNumber: 1099\n-------------------------------------\nTemp: 9\nRev: 19\nNumber: 109\n-------------------------------------\nTemp: 9\nRev: 199\nNumber: 10\n-------------------------------------\nTemp: 0\nRev: 1990\nNumber: 1\n-------------------------------------\nTemp: 1\nRev: 19901\nNumber: 0\n",
          "output_type": "stream"
        }
      ]
    }
  ]
}