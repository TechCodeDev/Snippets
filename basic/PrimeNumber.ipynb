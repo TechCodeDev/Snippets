{
  "metadata": {
    "language_info": {
      "codemirror_mode": {
        "name": "python",
        "version": 3
      },
      "file_extension": ".py",
      "mimetype": "text/x-python",
      "name": "python",
      "nbconvert_exporter": "python",
      "pygments_lexer": "ipython3",
      "version": "3.8"
    },
    "kernelspec": {
      "name": "python",
      "display_name": "Python (Pyodide)",
      "language": "python"
    }
  },
  "nbformat_minor": 4,
  "nbformat": 4,
  "cells": [
    {
      "cell_type": "code",
      "source": "##Prime Number\n\ndef Prime_Number(Number):\n    print(Number)\n    if Number==1:\n        return True\n    else:\n        for i in range(2,Number):\n            if Number%i==0:\n                return False\n        return True\n    \nprint(\"is Prime number:\",Prime_Number(1031))    ",
      "metadata": {
        "trusted": true
      },
      "execution_count": 40,
      "outputs": [
        {
          "name": "stdout",
          "text": "1031\nis Prime number: True\n",
          "output_type": "stream"
        }
      ]
    },
    {
      "cell_type": "code",
      "source": "##Prime Number Efficient solution\n\ndef Prime_Number(Number):\n    print(Number)\n    if Number==1:\n        return True\n    else:\n        i=2\n        while i*i<=Number:\n            if Number%i==0:\n                return False\n            i=i+1\n        return True\n    \nprint(\"is Prime number:\",Prime_Number(1031))   \n\n\n## Idea:Divisors always appear in pairs\n## 30:(1,30),(2,15),(3,10),(5,6)\n## 65:(1,65),(5,13)\n## 25:(1,10),(5,5)\n## if (x,y) is a pair\n##    x*y=n\n##   and if x<=y\n##   x*x<=n\n##   x<=/n\n##",
      "metadata": {
        "trusted": true
      },
      "execution_count": 41,
      "outputs": [
        {
          "name": "stdout",
          "text": "1031\nis Prime number: True\n",
          "output_type": "stream"
        }
      ]
    },
    {
      "cell_type": "code",
      "source": "##Prime Number more Efficient solution\n\ndef Prime_Number(Number):\n    print(Number)\n    if Number==1:\n        return False\n    elif Number==2 or Number==3:\n        return True\n    elif Number%2 or Number%3==0:\n        return False\n    else: \n        i=6\n        while i*i<=Number:\n            if n%i==0 or n%(i+2)==0:\n                return False\n            i=i+6\n        return True\n    \nprint(\"is Prime number:\",Prime_Number(1031))   \n",
      "metadata": {
        "trusted": true
      },
      "execution_count": 43,
      "outputs": [
        {
          "name": "stdout",
          "text": "1032\nis Prime number: False\n",
          "output_type": "stream"
        }
      ]
    }
  ]
}
