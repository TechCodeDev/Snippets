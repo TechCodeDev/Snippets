{
  "metadata": {
    "language_info": {
      "codemirror_mode": {
        "name": "python",
        "version": 3
      },
      "file_extension": ".py",
      "mimetype": "text/x-python",
      "name": "python",
      "nbconvert_exporter": "python",
      "pygments_lexer": "ipython3",
      "version": "3.8"
    },
    "kernelspec": {
      "name": "python",
      "display_name": "Python (Pyodide)",
      "language": "python"
    }
  },
  "nbformat_minor": 4,
  "nbformat": 4,
  "cells": [
    {
      "cell_type": "code",
      "source": "##Trailing Zero in Factorial Basic solution\n\ndef Trailing_Zero_In_Factorial(Number):\n    fact=1\n    for i in range(2,Number+1):\n        fact=fact*i\n    print(\"Factorial of\",Number,\"is:\",fact)\n    res=0\n    while fact%10==0:\n        res=res+1\n        fact=fact//10\n    print(\"Trailing Zero:\",res)\n\nTrailing_Zero_In_Factorial(24)",
      "metadata": {
        "trusted": true
      },
      "execution_count": 11,
      "outputs": [
        {
          "name": "stdout",
          "text": "Factorial of 24 is: 620448401733239439360000\nTrailing Zero: 4\n",
          "output_type": "stream"
        }
      ]
    },
    {
      "cell_type": "code",
      "source": "##Trailing Zero in Factorial efficient solution\n\ndef Trailing_Zero_In_Factorial(Number):\n    count=0\n    i=5\n    while i<=Number:\n        count=count+int(Number/i)\n        i=i*5\n    return count\n        \n    \nTrailing_Zero_In_Factorial(26) ",
      "metadata": {
        "trusted": true
      },
      "execution_count": 8,
      "outputs": [
        {
          "execution_count": 8,
          "output_type": "execute_result",
          "data": {
            "text/plain": "6"
          },
          "metadata": {}
        }
      ]
    }
  ]
}