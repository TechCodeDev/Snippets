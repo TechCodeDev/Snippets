{
  "metadata": {
    "language_info": {
      "codemirror_mode": {
        "name": "python",
        "version": 3
      },
      "file_extension": ".py",
      "mimetype": "text/x-python",
      "name": "python",
      "nbconvert_exporter": "python",
      "pygments_lexer": "ipython3",
      "version": "3.8"
    },
    "kernelspec": {
      "name": "python",
      "display_name": "Python (Pyodide)",
      "language": "python"
    }
  },
  "nbformat_minor": 4,
  "nbformat": 4,
  "cells": [
    {
      "cell_type": "code",
      "source": "##Count Number of digit\ndef Count_Digit(Number):\n    count=0\n    while Number!=0:\n        Number=Number//10\n        count=count+1\n    return count\n\nprint(\"Count:\",Count_Digit(100))",
      "metadata": {
        "trusted": true
      },
      "execution_count": 9,
      "outputs": [
        {
          "name": "stdout",
          "text": "Count: 3\n",
          "output_type": "stream"
        }
      ]
    },
    {
      "cell_type": "code",
      "source": "##Count Number of digit Using Rescursive\ndef Count_Digit(Number):\n    if Number==0:\n        return 0\n    return 1+Count_Digit(Number//10)\n\n\nprint(\"Count:\",Count_Digit(100))",
      "metadata": {
        "trusted": true
      },
      "execution_count": 11,
      "outputs": [
        {
          "name": "stdout",
          "text": "Count: 3\n",
          "output_type": "stream"
        }
      ]
    },
    {
      "cell_type": "code",
      "source": "##Count Number of digit Using Log\nimport math\ndef Count_Digit(Number):\n    return math.floor(math.log10(Number)+1)\n\nprint(\"Count:\",Count_Digit(1003))",
      "metadata": {
        "trusted": true
      },
      "execution_count": 17,
      "outputs": [
        {
          "name": "stdout",
          "text": "Count: 4\n",
          "output_type": "stream"
        }
      ]
    }
  ]
}
