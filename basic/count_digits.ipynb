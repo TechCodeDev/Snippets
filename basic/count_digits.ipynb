{
  "cells": [
    {
      "cell_type": "code",
      "execution_count": 1,
      "metadata": {
        "trusted": true
      },
      "outputs": [
        {
          "name": "stdout",
          "output_type": "stream",
          "text": [
            "Count: 3\n"
          ]
        }
      ],
      "source": [
        "##Count Number of digit\n",
        "def Count_Digit(Number):\n",
        "    count=0\n",
        "    while Number!=0:\n",
        "        Number=Number//10\n",
        "        count=count+1\n",
        "    return count\n",
        "\n",
        "print(\"Count:\",Count_Digit(100))"
      ]
    },
    {
      "cell_type": "code",
      "execution_count": 2,
      "metadata": {
        "trusted": true
      },
      "outputs": [
        {
          "name": "stdout",
          "output_type": "stream",
          "text": [
            "Count: 3\n"
          ]
        }
      ],
      "source": [
        "##Count Number of digit Using Rescursive\n",
        "def Count_Digit(Number):\n",
        "    if Number==0:\n",
        "        return 0\n",
        "    return 1+Count_Digit(Number//10)\n",
        "\n",
        "\n",
        "print(\"Count:\",Count_Digit(100))"
      ]
    },
    {
      "cell_type": "code",
      "execution_count": 3,
      "metadata": {
        "trusted": true
      },
      "outputs": [
        {
          "name": "stdout",
          "output_type": "stream",
          "text": [
            "Count: 4\n"
          ]
        }
      ],
      "source": [
        "##Count Number of digit Using Log\n",
        "import math\n",
        "def Count_Digit(Number):\n",
        "    return math.floor(math.log10(Number)+1)\n",
        "\n",
        "print(\"Count:\",Count_Digit(1003))"
      ]
    },
    {
      "cell_type": "code",
      "execution_count": null,
      "metadata": {},
      "outputs": [],
      "source": [
        "##Sample"
      ]
    }
  ],
  "metadata": {
    "kernelspec": {
      "display_name": "Python 3.10.4 64-bit",
      "language": "python",
      "name": "python3"
    },
    "language_info": {
      "codemirror_mode": {
        "name": "ipython",
        "version": 3
      },
      "file_extension": ".py",
      "mimetype": "text/x-python",
      "name": "python",
      "nbconvert_exporter": "python",
      "pygments_lexer": "ipython3",
      "version": "3.10.4"
    },
    "vscode": {
      "interpreter": {
        "hash": "4f946df053fbf2b937619d3c5458e7af74262f9a954d8797ba0b27400bcafe06"
      }
    }
  },
  "nbformat": 4,
  "nbformat_minor": 4
}
