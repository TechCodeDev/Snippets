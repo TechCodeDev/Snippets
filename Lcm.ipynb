{
  "metadata": {
    "language_info": {
      "codemirror_mode": {
        "name": "python",
        "version": 3
      },
      "file_extension": ".py",
      "mimetype": "text/x-python",
      "name": "python",
      "nbconvert_exporter": "python",
      "pygments_lexer": "ipython3",
      "version": "3.8"
    },
    "kernelspec": {
      "name": "python",
      "display_name": "Python (Pyodide)",
      "language": "python"
    }
  },
  "nbformat_minor": 4,
  "nbformat": 4,
  "cells": [
    {
      "cell_type": "code",
      "source": "##Lcm of two number Basic solution\n\ndef Lcm_of_two_Number(Number1,Number2):\n    MaxValue=max(Number1,Number2)\n    while True:\n        if MaxValue%Number1==0 and MaxValue%Number2==0:\n            return MaxValue\n        MaxValue=MaxValue+1\n    return MaxValue\n\nprint(\"Lcm of two number:\",Lcm_of_two_Number(6,4))",
      "metadata": {
        "trusted": true
      },
      "execution_count": 5,
      "outputs": [
        {
          "name": "stdout",
          "text": "MaxValue 6\n---------------------------\nNumber 1: 0\nNumber 2: 2\n---------------------------\nNumber 1: 1\nNumber 2: 3\n---------------------------\nNumber 1: 2\nNumber 2: 0\n---------------------------\nNumber 1: 3\nNumber 2: 1\n---------------------------\nNumber 1: 4\nNumber 2: 2\n---------------------------\nNumber 1: 5\nNumber 2: 3\n---------------------------\nNumber 1: 0\nNumber 2: 0\nLcm of two number: 12\n",
          "output_type": "stream"
        }
      ]
    },
    {
      "cell_type": "code",
      "source": "##Lcm of two number efficient solution \n## Formula a*b=GCD(a,b)*lcm(a,b)\n\ndef GCD(Number1,Number2):\n    if Number2==0:\n        return Number1\n    else:\n        return GCD(Number2,Number1%Number2)\n    \ndef Lcm_of_two_Number(Number1,Number2):\n    return (Number1*Number2)/GCD(Number1,Number2)\n\nprint(\"Lcm of two number:\",Lcm_of_two_Number(6,4))",
      "metadata": {
        "trusted": true
      },
      "execution_count": 6,
      "outputs": [
        {
          "name": "stdout",
          "text": "Lcm of two number: 12.0\n",
          "output_type": "stream"
        }
      ]
    }
  ]
}